{
 "cells": [
  {
   "cell_type": "code",
   "execution_count": 16,
   "metadata": {
    "id": "bpTsuL-XDTyJ"
   },
   "outputs": [],
   "source": [
    "# install Java8\n",
    "!apt-get install openjdk-8-jdk-headless -qq > /dev/null\n",
    "# download spark3.02\n",
    "!wget -q https://downloads.apache.org/spark/spark-3.0.2/spark-3.0.2-bin-hadoop3.2.tgz"
   ]
  },
  {
   "cell_type": "code",
   "execution_count": 17,
   "metadata": {
    "id": "ivHgJZJrDnNd"
   },
   "outputs": [],
   "source": [
    "# unzip it\n",
    "!tar xf spark-3.0.2-bin-hadoop3.2.tgz"
   ]
  },
  {
   "cell_type": "code",
   "execution_count": 18,
   "metadata": {
    "colab": {
     "base_uri": "https://localhost:8080/"
    },
    "id": "P9kxRIG9DqTE",
    "outputId": "76f8315d-099a-4619-bdea-70b1b364b5eb"
   },
   "outputs": [
    {
     "name": "stdout",
     "output_type": "stream",
     "text": [
      "Requirement already satisfied: pyspark in /usr/local/lib/python3.7/dist-packages (3.1.1)\n",
      "Requirement already satisfied: py4j==0.10.9 in /usr/local/lib/python3.7/dist-packages (from pyspark) (0.10.9)\n"
     ]
    }
   ],
   "source": [
    "# install pyspark \n",
    "!pip install pyspark"
   ]
  },
  {
   "cell_type": "code",
   "execution_count": 19,
   "metadata": {
    "id": "MUe4dRZDDsEY"
   },
   "outputs": [],
   "source": [
    "# install findspark\n",
    "!pip install -q findspark"
   ]
  },
  {
   "cell_type": "code",
   "execution_count": 20,
   "metadata": {
    "id": "g3YopO1tDuAk"
   },
   "outputs": [],
   "source": [
    "import os\n",
    "os.environ[\"JAVA_HOME\"] = \"/usr/lib/jvm/java-8-openjdk-amd64\"\n",
    "os.environ[\"SPARK_HOME\"] = \"/content/spark-3.0.2-bin-hadoop3.2\""
   ]
  },
  {
   "cell_type": "code",
   "execution_count": 21,
   "metadata": {
    "id": "MU7gsT92Dvag"
   },
   "outputs": [],
   "source": [
    "import findspark\n",
    "findspark.init()"
   ]
  },
  {
   "cell_type": "code",
   "execution_count": 22,
   "metadata": {
    "colab": {
     "base_uri": "https://localhost:8080/",
     "height": 36
    },
    "id": "ZAxTmlkODxmG",
    "outputId": "18d235ab-4c1a-4cac-a130-9255f65068b4"
   },
   "outputs": [
    {
     "data": {
      "application/vnd.google.colaboratory.intrinsic+json": {
       "type": "string"
      },
      "text/plain": [
       "'/content/spark-3.0.2-bin-hadoop3.2'"
      ]
     },
     "execution_count": 22,
     "metadata": {
      "tags": []
     },
     "output_type": "execute_result"
    }
   ],
   "source": [
    "findspark.find()"
   ]
  },
  {
   "cell_type": "code",
   "execution_count": 23,
   "metadata": {
    "id": "r6CRYJqVD0Cv"
   },
   "outputs": [],
   "source": [
    "from pyspark.sql import SparkSession\n",
    "\n",
    "spark = SparkSession.builder\\\n",
    "        .master(\"local\")\\\n",
    "        .appName(\"Colab\")\\\n",
    "        .config('spark.ui.port', '4050')\\\n",
    "        .getOrCreate()"
   ]
  },
  {
   "cell_type": "code",
   "execution_count": 24,
   "metadata": {
    "colab": {
     "base_uri": "https://localhost:8080/",
     "height": 217
    },
    "id": "DWudQub4D4cS",
    "outputId": "2b2b25fc-29f1-41b3-ab84-d4218fd17207"
   },
   "outputs": [
    {
     "data": {
      "text/html": [
       "\n",
       "            <div>\n",
       "                <p><b>SparkSession - in-memory</b></p>\n",
       "                \n",
       "        <div>\n",
       "            <p><b>SparkContext</b></p>\n",
       "\n",
       "            <p><a href=\"http://b7645eaf0849:4050\">Spark UI</a></p>\n",
       "\n",
       "            <dl>\n",
       "              <dt>Version</dt>\n",
       "                <dd><code>v3.0.2</code></dd>\n",
       "              <dt>Master</dt>\n",
       "                <dd><code>local</code></dd>\n",
       "              <dt>AppName</dt>\n",
       "                <dd><code>Colab</code></dd>\n",
       "            </dl>\n",
       "        </div>\n",
       "        \n",
       "            </div>\n",
       "        "
      ],
      "text/plain": [
       "<pyspark.sql.session.SparkSession at 0x7f0a07342ad0>"
      ]
     },
     "execution_count": 24,
     "metadata": {
      "tags": []
     },
     "output_type": "execute_result"
    }
   ],
   "source": [
    "spark"
   ]
  },
  {
   "cell_type": "code",
   "execution_count": 25,
   "metadata": {
    "id": "4cQB-eZsUGfd"
   },
   "outputs": [],
   "source": [
    "#/content/drive/MyDrive/academic/l4s2/big data/data2.csv"
   ]
  },
  {
   "cell_type": "code",
   "execution_count": 25,
   "metadata": {
    "id": "DmSL3ttMUPwB"
   },
   "outputs": [],
   "source": []
  },
  {
   "cell_type": "code",
   "execution_count": 26,
   "metadata": {
    "colab": {
     "base_uri": "https://localhost:8080/"
    },
    "id": "OeYwgpQIlj_f",
    "outputId": "6c0cdba2-4620-4f7a-d904-ff2c7927dcef"
   },
   "outputs": [
    {
     "name": "stdout",
     "output_type": "stream",
     "text": [
      "--2021-04-01 17:47:12--  https://bin.equinox.io/c/4VmDzA7iaHb/ngrok-stable-linux-amd64.zip\n",
      "Resolving bin.equinox.io (bin.equinox.io)... 52.55.225.227, 3.208.247.60, 174.129.26.222, ...\n",
      "Connecting to bin.equinox.io (bin.equinox.io)|52.55.225.227|:443... connected.\n",
      "HTTP request sent, awaiting response... 200 OK\n",
      "Length: 14746350 (14M) [application/octet-stream]\n",
      "Saving to: ‘ngrok-stable-linux-amd64.zip.1’\n",
      "\n",
      "ngrok-stable-linux- 100%[===================>]  14.06M  53.1MB/s    in 0.3s    \n",
      "\n",
      "2021-04-01 17:47:12 (53.1 MB/s) - ‘ngrok-stable-linux-amd64.zip.1’ saved [14746350/14746350]\n",
      "\n",
      "Archive:  ngrok-stable-linux-amd64.zip\n",
      "replace ngrok? [y]es, [n]o, [A]ll, [N]one, [r]ename: y\n",
      "  inflating: ngrok                   \n",
      "{\"tunnels\":[{\"name\":\"command_line\",\"uri\":\"/api/tunnels/command_line\",\"public_url\":\"https://0b510bc0ce36.ngrok.io\",\"proto\":\"https\",\"config\":{\"addr\":\"http://localhost:4050\",\"inspect\":true},\"metrics\":{\"conns\":{\"count\":0,\"gauge\":0,\"rate1\":0,\"rate5\":0,\"rate15\":0,\"p50\":0,\"p90\":0,\"p95\":0,\"p99\":0},\"http\":{\"count\":0,\"rate1\":0,\"rate5\":0,\"rate15\":0,\"p50\":0,\"p90\":0,\"p95\":0,\"p99\":0}}},{\"name\":\"command_line (http)\",\"uri\":\"/api/tunnels/command_line%20%28http%29\",\"public_url\":\"http://0b510bc0ce36.ngrok.io\",\"proto\":\"http\",\"config\":{\"addr\":\"http://localhost:4050\",\"inspect\":true},\"metrics\":{\"conns\":{\"count\":0,\"gauge\":0,\"rate1\":0,\"rate5\":0,\"rate15\":0,\"p50\":0,\"p90\":0,\"p95\":0,\"p99\":0},\"http\":{\"count\":0,\"rate1\":0,\"rate5\":0,\"rate15\":0,\"p50\":0,\"p90\":0,\"p95\":0,\"p99\":0}}}],\"uri\":\"/api/tunnels\"}\n"
     ]
    }
   ],
   "source": [
    "!wget https://bin.equinox.io/c/4VmDzA7iaHb/ngrok-stable-linux-amd64.zip\n",
    "!unzip ngrok-stable-linux-amd64.zip\n",
    "get_ipython().system_raw('./ngrok http 4050 &')\n",
    "!curl -s http://localhost:4040/api/tunnels"
   ]
  },
  {
   "cell_type": "code",
   "execution_count": 26,
   "metadata": {
    "id": "dHbOkt2OUSiM"
   },
   "outputs": [],
   "source": []
  },
  {
   "cell_type": "code",
   "execution_count": 33,
   "metadata": {
    "id": "aqHL9boH54yK"
   },
   "outputs": [],
   "source": [
    "import numpy as np # linear algebra\n",
    "import pandas as pd # data processing, CSV file I/O\n",
    "\n",
    "import os\n",
    "for dirname, _, filenames in os.walk('/content/drive/MyDrive/academic/l4s2/big data/d.csv'):\n",
    "    for filename in filenames:\n",
    "        print(os.path.join(dirname, filename))"
   ]
  },
  {
   "cell_type": "code",
   "execution_count": 37,
   "metadata": {
    "colab": {
     "base_uri": "https://localhost:8080/"
    },
    "id": "VRSvAb7KUgF7",
    "outputId": "9f298205-c0a8-41f4-abad-3d349ba3ca9d"
   },
   "outputs": [
    {
     "data": {
      "text/plain": [
       "Row(Url='https://ikman.lk//en/ad/suzuki-wagon-r-fz-safety-2015-for-sale-gampaha-66', Title='Suzuki Wagon R FZ Safety 2015', Date='2 Mar 7:04 AM', District='Negombo', Area='Gampaha', Price=3200000, Brand='Suzuki', Model='Wagon R FZ', Trim/Edition='Safety', ModelYear=2015, Condition='Used', Transmission='Automatic', BodyType='Hatchback', FuelType='Hybrid', EngineCapacity='650 cc', Millage='63,000 km', Decription=\"['<p>Dvd, Tv , Reverse camera, Dual Air Bags, Abs, multi function, Alloy wheels, push start, safety brake', 'Mint condition', 'First owner', 'All service records available', 'Price can be negotiable after inspection</p>']\")"
      ]
     },
     "execution_count": 37,
     "metadata": {
      "tags": []
     },
     "output_type": "execute_result"
    }
   ],
   "source": [
    "df = spark.read.csv(\"/content/drive/MyDrive/academic/l4s2/big data/d2.csv\", header=True, inferSchema=True)\n",
    "df.head()"
   ]
  },
  {
   "cell_type": "code",
   "execution_count": 38,
   "metadata": {
    "colab": {
     "base_uri": "https://localhost:8080/"
    },
    "id": "__RT1EnzUdnQ",
    "outputId": "3f1f4068-23f6-47b0-983a-9271f61e0937"
   },
   "outputs": [
    {
     "name": "stdout",
     "output_type": "stream",
     "text": [
      "root\n",
      " |-- Url: string (nullable = true)\n",
      " |-- Title: string (nullable = true)\n",
      " |-- Date: string (nullable = true)\n",
      " |-- District: string (nullable = true)\n",
      " |-- Area: string (nullable = true)\n",
      " |-- Price: integer (nullable = true)\n",
      " |-- Brand: string (nullable = true)\n",
      " |-- Model: string (nullable = true)\n",
      " |-- Trim/Edition: string (nullable = true)\n",
      " |-- ModelYear: integer (nullable = true)\n",
      " |-- Condition: string (nullable = true)\n",
      " |-- Transmission: string (nullable = true)\n",
      " |-- BodyType: string (nullable = true)\n",
      " |-- FuelType: string (nullable = true)\n",
      " |-- EngineCapacity: string (nullable = true)\n",
      " |-- Millage: string (nullable = true)\n",
      " |-- Decription: string (nullable = true)\n",
      "\n"
     ]
    }
   ],
   "source": [
    "df.printSchema()"
   ]
  },
  {
   "cell_type": "code",
   "execution_count": 41,
   "metadata": {
    "colab": {
     "base_uri": "https://localhost:8080/"
    },
    "id": "jNXTsSBuU3fS",
    "outputId": "f31a6d77-02f8-40d2-ab89-c2ec14e8dfb1"
   },
   "outputs": [
    {
     "name": "stdout",
     "output_type": "stream",
     "text": [
      "+--------------------+--------------------+--------------+-------------+-------+--------+-------------+----------+-------------------+---------+---------+------------+---------+--------+--------------+---------+--------------------+\n",
      "|                 Url|               Title|          Date|     District|   Area|   Price|        Brand|     Model|       Trim/Edition|ModelYear|Condition|Transmission| BodyType|FuelType|EngineCapacity|  Millage|          Decription|\n",
      "+--------------------+--------------------+--------------+-------------+-------+--------+-------------+----------+-------------------+---------+---------+------------+---------+--------+--------------+---------+--------------------+\n",
      "|https://ikman.lk/...|Suzuki Wagon R FZ...| 2 Mar 7:04 AM|      Negombo|Gampaha| 3200000|       Suzuki|Wagon R FZ|             Safety|     2015|     Used|   Automatic|Hatchback|  Hybrid|        650 cc|63,000 km|['<p>Dvd, Tv , Re...|\n",
      "|https://ikman.lk/...|Honda Vezel Z Ora...|25 Mar 9:08 PM|Mount Lavinia|Colombo| 5790000|        Honda|     Vezel|Z Orange Gold Batch|     2014|     Used|   Automatic|SUV / 4x4|  Hybrid|      1,500 cc|59,000 km|['<p>HONDA VEZEL ...|\n",
      "|https://ikman.lk/...|Honda Fit GP 5 L ...|27 Mar 2:16 PM|        Kotte|Colombo| 4450000|        Honda|       Fit|   Fit GP 5 L Grade|     2014|     Used|   Automatic|Hatchback|  Hybrid|      1,500 cc|61,000 km|['<p>Honda Fit GP...|\n",
      "|https://ikman.lk/...|Toyota Premio EX ...|27 Mar 2:15 PM|     Kohuwala|Colombo|11350000|       Toyota|    Premio|      EX G-Superior|     2019|     Used|   Automatic|   Saloon|  Petrol|      1,500 cc| 9,000 km|['<p>Toyota Premi...|\n",
      "|https://ikman.lk/...|Mercedes Benz CLS...|16 Mar 2:01 PM|    Colombo 8|Colombo|27500000|Mercedes Benz|       CLS|                350|     2018|     Used|   Tiptronic|   Saloon|  Petrol|      2,000 cc| 9,400 km|['<p>FULLY LOADED...|\n",
      "+--------------------+--------------------+--------------+-------------+-------+--------+-------------+----------+-------------------+---------+---------+------------+---------+--------+--------------+---------+--------------------+\n",
      "only showing top 5 rows\n",
      "\n"
     ]
    }
   ],
   "source": [
    "df.show(5)"
   ]
  },
  {
   "cell_type": "code",
   "execution_count": 43,
   "metadata": {
    "colab": {
     "base_uri": "https://localhost:8080/"
    },
    "id": "9dAlkqwAU8DA",
    "outputId": "743b1e1c-2dd4-4df4-db24-e7829ddeac8d"
   },
   "outputs": [
    {
     "name": "stdout",
     "output_type": "stream",
     "text": [
      "+--------------+-------------+-------+--------+-------------+--------+----------+-------------------+---------+---------+------------+---------+--------+--------+--------------+---------+\n",
      "|          Date|     District|   Area|   Price|        Brand|   Price|     Model|       Trim/Edition|ModelYear|Condition|Transmission| BodyType|FuelType|FuelType|EngineCapacity|  Millage|\n",
      "+--------------+-------------+-------+--------+-------------+--------+----------+-------------------+---------+---------+------------+---------+--------+--------+--------------+---------+\n",
      "| 2 Mar 7:04 AM|      Negombo|Gampaha| 3200000|       Suzuki| 3200000|Wagon R FZ|             Safety|     2015|     Used|   Automatic|Hatchback|  Hybrid|  Hybrid|        650 cc|63,000 km|\n",
      "|25 Mar 9:08 PM|Mount Lavinia|Colombo| 5790000|        Honda| 5790000|     Vezel|Z Orange Gold Batch|     2014|     Used|   Automatic|SUV / 4x4|  Hybrid|  Hybrid|      1,500 cc|59,000 km|\n",
      "|27 Mar 2:16 PM|        Kotte|Colombo| 4450000|        Honda| 4450000|       Fit|   Fit GP 5 L Grade|     2014|     Used|   Automatic|Hatchback|  Hybrid|  Hybrid|      1,500 cc|61,000 km|\n",
      "|27 Mar 2:15 PM|     Kohuwala|Colombo|11350000|       Toyota|11350000|    Premio|      EX G-Superior|     2019|     Used|   Automatic|   Saloon|  Petrol|  Petrol|      1,500 cc| 9,000 km|\n",
      "|16 Mar 2:01 PM|    Colombo 8|Colombo|27500000|Mercedes Benz|27500000|       CLS|                350|     2018|     Used|   Tiptronic|   Saloon|  Petrol|  Petrol|      2,000 cc| 9,400 km|\n",
      "+--------------+-------------+-------+--------+-------------+--------+----------+-------------------+---------+---------+------------+---------+--------+--------+--------------+---------+\n",
      "only showing top 5 rows\n",
      "\n"
     ]
    }
   ],
   "source": [
    "selected = df.select(\"Date\",\"District\",\"Area\",\"Price\",\"Brand\",\"Price\", \"Model\", \"Trim/Edition\", \"ModelYear\", \"Condition\", \"Transmission\", \"BodyType\",\"FuelType\", \"FuelType\", \"EngineCapacity\", \"Millage\").show(5)"
   ]
  },
  {
   "cell_type": "code",
   "execution_count": 47,
   "metadata": {
    "colab": {
     "base_uri": "https://localhost:8080/"
    },
    "id": "acSqcjwN9OTy",
    "outputId": "4e628f5f-f007-43cb-8668-b307bea69f42"
   },
   "outputs": [
    {
     "name": "stdout",
     "output_type": "stream",
     "text": [
      "(6797, 17)\n"
     ]
    }
   ],
   "source": [
    "print((df.count(), len(df.columns)))"
   ]
  },
  {
   "cell_type": "code",
   "execution_count": 46,
   "metadata": {
    "colab": {
     "base_uri": "https://localhost:8080/"
    },
    "id": "phsnEWlD7Qka",
    "outputId": "fe2018e1-16ea-408a-ca3b-26e309e54cb9"
   },
   "outputs": [
    {
     "name": "stdout",
     "output_type": "stream",
     "text": [
      "+---------+-----+\n",
      "|ModelYear|count|\n",
      "+---------+-----+\n",
      "|     2015|  741|\n",
      "|     2017|  651|\n",
      "|     2016|  558|\n",
      "|     2018|  494|\n",
      "|     2014|  486|\n",
      "|     2012|  341|\n",
      "|     2013|  334|\n",
      "|     2011|  270|\n",
      "|     2007|  261|\n",
      "|     2019|  234|\n",
      "|     2008|  198|\n",
      "|     2010|  149|\n",
      "|     2003|  140|\n",
      "|     2006|  137|\n",
      "|     2000|  137|\n",
      "|     2001|  110|\n",
      "|     1997|  104|\n",
      "|     2020|  100|\n",
      "|     2004|   98|\n",
      "|     2002|   96|\n",
      "+---------+-----+\n",
      "only showing top 20 rows\n",
      "\n"
     ]
    }
   ],
   "source": [
    "df.groupBy('ModelYear').count().orderBy('count', ascending=False).show()"
   ]
  },
  {
   "cell_type": "code",
   "execution_count": 105,
   "metadata": {
    "colab": {
     "base_uri": "https://localhost:8080/"
    },
    "id": "uO8N2pjZMPYe",
    "outputId": "4117981e-ae5e-4ac9-b383-020b315a2021"
   },
   "outputs": [
    {
     "name": "stdout",
     "output_type": "stream",
     "text": [
      "+-------------+-----+\n",
      "|     BodyType|count|\n",
      "+-------------+-----+\n",
      "|    Hatchback| 2542|\n",
      "|       Saloon| 2265|\n",
      "|    SUV / 4x4| 1407|\n",
      "|Station wagon|  353|\n",
      "|          MPV|  129|\n",
      "| Coupé/Sports|   52|\n",
      "|  Convertible|   49|\n",
      "+-------------+-----+\n",
      "\n"
     ]
    }
   ],
   "source": [
    "df.groupBy('BodyType').count().orderBy('count', ascending=False).show()"
   ]
  },
  {
   "cell_type": "code",
   "execution_count": 48,
   "metadata": {
    "colab": {
     "base_uri": "https://localhost:8080/"
    },
    "id": "ZjzjLKpi83q3",
    "outputId": "4beedda1-02de-40a8-dd21-83ea44233747"
   },
   "outputs": [
    {
     "name": "stdout",
     "output_type": "stream",
     "text": [
      "+------------+-----+\n",
      "|        Area|count|\n",
      "+------------+-----+\n",
      "|     Colombo| 3267|\n",
      "|     Gampaha| 1447|\n",
      "|  Kurunegala|  350|\n",
      "|    Kalutara|  296|\n",
      "|       Kandy|  285|\n",
      "|       Galle|  204|\n",
      "|      Matara|  189|\n",
      "|    Puttalam|  138|\n",
      "|     Kegalle|  136|\n",
      "|   Ratnapura|  115|\n",
      "|Anuradhapura|   73|\n",
      "|      Matale|   59|\n",
      "|  Hambantota|   55|\n",
      "|      Ampara|   50|\n",
      "|     Badulla|   44|\n",
      "|  Monaragala|   22|\n",
      "|  Batticaloa|   21|\n",
      "| Polonnaruwa|   15|\n",
      "|Nuwara Eliya|    9|\n",
      "| Trincomalee|    8|\n",
      "+------------+-----+\n",
      "only showing top 20 rows\n",
      "\n"
     ]
    }
   ],
   "source": [
    "df.groupBy('Area').count().orderBy('count', ascending=False).show()"
   ]
  },
  {
   "cell_type": "code",
   "execution_count": 67,
   "metadata": {
    "id": "r0iUQPjH-ueL"
   },
   "outputs": [],
   "source": [
    "from pyspark.sql.functions import count, avg\n",
    "from pyspark.sql.functions import desc"
   ]
  },
  {
   "cell_type": "code",
   "execution_count": 69,
   "metadata": {
    "colab": {
     "base_uri": "https://localhost:8080/"
    },
    "id": "b0uSPYya95Gt",
    "outputId": "bb9c09ad-3b4f-438e-8f86-afd24b3b057a"
   },
   "outputs": [
    {
     "name": "stdout",
     "output_type": "stream",
     "text": [
      "+-------------+-------------------+--------------------+--------+\n",
      "|        Brand|              Model|          avg(Price)|count(1)|\n",
      "+-------------+-------------------+--------------------+--------+\n",
      "|   Land Rover|   Range Rover PHEV|              6.97E7|       2|\n",
      "|       Hummer|                 H2|               5.9E7|       3|\n",
      "|   Land Rover|        Range Rover|4.5661463414634146E7|      41|\n",
      "|Mercedes Benz|           GLE 300D|          3.834375E7|       8|\n",
      "|       Toyota|Land Cruiser Sahara|  3.77608552631579E7|      76|\n",
      "|          BMW|               740d|              3.75E7|       1|\n",
      "|       Jaguar|             F-Pace|              3.55E7|       1|\n",
      "|   Land Rover|  Range Rover Velar|3.5483333333333336E7|       6|\n",
      "|   Land Rover|        Other Model|             3.475E7|       1|\n",
      "|   Land Rover|  Range Rover Sport|          3.423125E7|      16|\n",
      "|Mercedes Benz|               S400|               3.3E7|       1|\n",
      "|Mercedes Benz|               S500|            3.2625E7|       4|\n",
      "|          BMW|              740Le|3.1845833333333332E7|      12|\n",
      "|        Volvo|               XC90|              3.15E7|       1|\n",
      "|          BMW|                 M6|               3.1E7|       1|\n",
      "|          BMW|               740e| 2.757857142857143E7|       7|\n",
      "|Mercedes Benz|                CLS|              2.72E7|       2|\n",
      "|   Land Rover|          Discovery|        2.63903125E7|      32|\n",
      "|       Hummer|                 H3|               2.6E7|       1|\n",
      "|Mercedes Benz|                GLB|              2.45E7|       2|\n",
      "+-------------+-------------------+--------------------+--------+\n",
      "only showing top 20 rows\n",
      "\n"
     ]
    }
   ],
   "source": [
    "pdf = df.groupBy(\"Brand\", \"Model\").agg(avg(\"Price\"), count(\"*\")).sort(desc(\"avg(Price)\")).show()"
   ]
  },
  {
   "cell_type": "code",
   "execution_count": 72,
   "metadata": {
    "id": "uWsrXhUX-otN"
   },
   "outputs": [],
   "source": [
    "pdf = df.groupBy(\"Brand\", \"Model\").agg(avg(\"Price\"), count(\"*\")).sort(desc(\"avg(Price)\")).toPandas()"
   ]
  },
  {
   "cell_type": "code",
   "execution_count": null,
   "metadata": {
    "id": "Dn2FHI23L5Hk"
   },
   "outputs": [],
   "source": [
    "df.groupBy('ModelYear').count().orderBy('count', ascending=False).show()"
   ]
  },
  {
   "cell_type": "code",
   "execution_count": 93,
   "metadata": {
    "id": "bhZtmpFbF2AU"
   },
   "outputs": [],
   "source": [
    "import pandas as pd\n",
    "import numpy as np\n",
    "import matplotlib.pyplot as plt\n",
    "import seaborn as sns\n",
    "from matplotlib.pyplot import figure\n",
    "sns.set(rc={'figure.figsize':(15,15)})"
   ]
  },
  {
   "cell_type": "code",
   "execution_count": 74,
   "metadata": {
    "colab": {
     "base_uri": "https://localhost:8080/",
     "height": 195
    },
    "id": "S4H1NZogGlWP",
    "outputId": "3e3aed8d-fa9d-4221-ccdd-25582c2a98f4"
   },
   "outputs": [
    {
     "data": {
      "text/html": [
       "<div>\n",
       "<style scoped>\n",
       "    .dataframe tbody tr th:only-of-type {\n",
       "        vertical-align: middle;\n",
       "    }\n",
       "\n",
       "    .dataframe tbody tr th {\n",
       "        vertical-align: top;\n",
       "    }\n",
       "\n",
       "    .dataframe thead th {\n",
       "        text-align: right;\n",
       "    }\n",
       "</style>\n",
       "<table border=\"1\" class=\"dataframe\">\n",
       "  <thead>\n",
       "    <tr style=\"text-align: right;\">\n",
       "      <th></th>\n",
       "      <th>Brand</th>\n",
       "      <th>Model</th>\n",
       "      <th>avg(Price)</th>\n",
       "      <th>count(1)</th>\n",
       "    </tr>\n",
       "  </thead>\n",
       "  <tbody>\n",
       "    <tr>\n",
       "      <th>0</th>\n",
       "      <td>Land Rover</td>\n",
       "      <td>Range Rover PHEV</td>\n",
       "      <td>6.970000e+07</td>\n",
       "      <td>2</td>\n",
       "    </tr>\n",
       "    <tr>\n",
       "      <th>1</th>\n",
       "      <td>Hummer</td>\n",
       "      <td>H2</td>\n",
       "      <td>5.900000e+07</td>\n",
       "      <td>3</td>\n",
       "    </tr>\n",
       "    <tr>\n",
       "      <th>2</th>\n",
       "      <td>Land Rover</td>\n",
       "      <td>Range Rover</td>\n",
       "      <td>4.566146e+07</td>\n",
       "      <td>41</td>\n",
       "    </tr>\n",
       "    <tr>\n",
       "      <th>3</th>\n",
       "      <td>Mercedes Benz</td>\n",
       "      <td>GLE 300D</td>\n",
       "      <td>3.834375e+07</td>\n",
       "      <td>8</td>\n",
       "    </tr>\n",
       "    <tr>\n",
       "      <th>4</th>\n",
       "      <td>Toyota</td>\n",
       "      <td>Land Cruiser Sahara</td>\n",
       "      <td>3.776086e+07</td>\n",
       "      <td>76</td>\n",
       "    </tr>\n",
       "  </tbody>\n",
       "</table>\n",
       "</div>"
      ],
      "text/plain": [
       "           Brand                Model    avg(Price)  count(1)\n",
       "0     Land Rover     Range Rover PHEV  6.970000e+07         2\n",
       "1         Hummer                   H2  5.900000e+07         3\n",
       "2     Land Rover          Range Rover  4.566146e+07        41\n",
       "3  Mercedes Benz             GLE 300D  3.834375e+07         8\n",
       "4         Toyota  Land Cruiser Sahara  3.776086e+07        76"
      ]
     },
     "execution_count": 74,
     "metadata": {
      "tags": []
     },
     "output_type": "execute_result"
    }
   ],
   "source": [
    "pdf.head()"
   ]
  },
  {
   "cell_type": "code",
   "execution_count": 92,
   "metadata": {
    "colab": {
     "base_uri": "https://localhost:8080/",
     "height": 917
    },
    "id": "jNIkBAKQGm4e",
    "outputId": "01d1e07f-6781-470a-975c-3e89db1b757a"
   },
   "outputs": [
    {
     "data": {
      "text/plain": [
       "[Text(0.5, 1.0, 'Top Twenty')]"
      ]
     },
     "execution_count": 92,
     "metadata": {
      "tags": []
     },
     "output_type": "execute_result"
    },
    {
     "data": {
      "image/png": "[encoded data removed]",
      "text/plain": [
       "<Figure size 1440x1080 with 1 Axes>"
      ]
     },
     "metadata": {
      "tags": []
     },
     "output_type": "display_data"
    }
   ],
   "source": [
    "sns.barplot(x=\"Brand\", y=\"avg(Price)\", hue=\"Model\", data=pdf.iloc[:20]).set(title=\"Top Twenty\")\n",
    "# g.fig.autofmt_xdate()\n",
    "# fig.set_figwidth(20.27)\n",
    "# g.fig.set_figheight(11.7)    "
   ]
  },
  {
   "cell_type": "code",
   "execution_count": 96,
   "metadata": {
    "colab": {
     "base_uri": "https://localhost:8080/"
    },
    "id": "BaIiUvmCHTB2",
    "outputId": "da367366-4325-44e1-a8b4-e7c703f22d4c"
   },
   "outputs": [
    {
     "name": "stdout",
     "output_type": "stream",
     "text": [
      "+-------------------+---------+--------------------+--------+\n",
      "|              Model|ModelYear|          avg(Price)|count(1)|\n",
      "+-------------------+---------+--------------------+--------+\n",
      "|Land Cruiser Sahara|     2020|              7.97E7|       5|\n",
      "|   Range Rover PHEV|     2019|              7.75E7|       1|\n",
      "|                 H2|     2005|              6.75E7|       1|\n",
      "|        Range Rover|     2019|6.6691333333333336E7|      15|\n",
      "|           Defender|     2020|              6.65E7|       1|\n",
      "|   Range Rover PHEV|     2018|              6.19E7|       1|\n",
      "|                 H2|     2009|               6.0E7|       1|\n",
      "|Land Cruiser Sahara|     2016|5.1291666666666664E7|      12|\n",
      "|        Range Rover|     2018|5.0077777777777776E7|       9|\n",
      "|               S300|     2015|               5.0E7|       1|\n",
      "|                 H2|     2007|              4.95E7|       1|\n",
      "|Land Cruiser Sahara|     2018|              4.75E7|       2|\n",
      "| Land Cruiser Prado|     2020|4.7333333333333336E7|       3|\n",
      "|Land Cruiser Sahara|     2017|4.5528571428571425E7|       7|\n",
      "|        Range Rover|     2015|               4.5E7|       2|\n",
      "|        Range Rover|     2016|             4.425E7|       2|\n",
      "|           GLE 300D|     2020|              4.35E7|       1|\n",
      "|        Range Rover|     2014|              4.35E7|       1|\n",
      "|Land Cruiser Sahara|     2014|            4.0875E7|       2|\n",
      "|           GLE 300D|     2019|             4.075E7|       5|\n",
      "+-------------------+---------+--------------------+--------+\n",
      "only showing top 20 rows\n",
      "\n"
     ]
    }
   ],
   "source": [
    "pdf = df.groupBy(\"Model\", \"ModelYear\").agg(avg(\"Price\"), count(\"*\")).sort(desc(\"avg(Price)\")).show()"
   ]
  },
  {
   "cell_type": "code",
   "execution_count": 97,
   "metadata": {
    "id": "156do7IEJz9N"
   },
   "outputs": [],
   "source": [
    "pdf = df.groupBy(\"Model\", \"ModelYear\").agg(avg(\"Price\"), count(\"*\")).sort(desc(\"avg(Price)\")).toPandas()"
   ]
  },
  {
   "cell_type": "code",
   "execution_count": 98,
   "metadata": {
    "colab": {
     "base_uri": "https://localhost:8080/",
     "height": 917
    },
    "id": "cvi4KH5PJcoT",
    "outputId": "17282ffe-f457-414e-9264-b73d674669c7"
   },
   "outputs": [
    {
     "data": {
      "text/plain": [
       "[Text(0.5, 1.0, 'Top Twenty')]"
      ]
     },
     "execution_count": 98,
     "metadata": {
      "tags": []
     },
     "output_type": "execute_result"
    },
    {
     "data": {
      "image/png": "[encoded data removed]",
      "text/plain": [
       "<Figure size 1080x1080 with 1 Axes>"
      ]
     },
     "metadata": {
      "tags": []
     },
     "output_type": "display_data"
    }
   ],
   "source": [
    "sns.barplot(x=\"Model\", y=\"avg(Price)\", hue=\"ModelYear\", data=pdf.iloc[:20]).set(title=\"Top Twenty\")"
   ]
  },
  {
   "cell_type": "code",
   "execution_count": 100,
   "metadata": {
    "colab": {
     "base_uri": "https://localhost:8080/"
    },
    "id": "rZK5gCV9J1ZK",
    "outputId": "1851262b-77ae-4cf8-aa2c-59f93ef868bd"
   },
   "outputs": [
    {
     "name": "stdout",
     "output_type": "stream",
     "text": [
      "+-------------------+-------------+----------+--------+\n",
      "|              Model|    Condition|avg(Price)|count(1)|\n",
      "+-------------------+-------------+----------+--------+\n",
      "|        Range Rover|          New| 8.35125E7|       4|\n",
      "|Land Cruiser Sahara|          New|    7.97E7|       5|\n",
      "|   Range Rover PHEV|          New|    7.75E7|       1|\n",
      "|           Defender|          New|    6.65E7|       1|\n",
      "|        Range Rover|Reconditioned|  6.2294E7|       5|\n",
      "|   Range Rover PHEV|         Used|    6.19E7|       1|\n",
      "|                 H2|         Used|     5.9E7|       3|\n",
      "|               S300|          New|     5.0E7|       1|\n",
      "|  Range Rover Velar|Reconditioned|     4.6E7|       1|\n",
      "|           GLE 300D|          New|  4.2875E7|       4|\n",
      "|          Discovery|          New|   4.275E7|       2|\n",
      "|  Range Rover Sport|Reconditioned|    3.95E7|       1|\n",
      "|        Range Rover|         Used|3.833125E7|      32|\n",
      "|               740d|Reconditioned|    3.75E7|       1|\n",
      "|              740Le|Reconditioned|    3.75E7|       1|\n",
      "|          Discovery|Reconditioned|    3.75E7|       1|\n",
      "|  Range Rover Velar|          New|     3.7E7|       1|\n",
      "|              740Le|          New|    3.65E7|       1|\n",
      "| Land Cruiser Prado|          New|   3.575E7|       3|\n",
      "|             F-Pace|          New|    3.55E7|       1|\n",
      "+-------------------+-------------+----------+--------+\n",
      "only showing top 20 rows\n",
      "\n"
     ]
    }
   ],
   "source": [
    "# Millage\n",
    "pdf = df.groupBy(\"Model\", \"Condition\").agg(avg(\"Price\"), count(\"*\")).sort(desc(\"avg(Price)\")).show()"
   ]
  },
  {
   "cell_type": "code",
   "execution_count": 101,
   "metadata": {
    "id": "02JIaQ79K2Pp"
   },
   "outputs": [],
   "source": [
    "pdf = df.groupBy(\"Model\", \"Condition\").agg(avg(\"Price\"), count(\"*\")).sort(desc(\"avg(Price)\")).toPandas()"
   ]
  },
  {
   "cell_type": "code",
   "execution_count": 104,
   "metadata": {
    "colab": {
     "base_uri": "https://localhost:8080/",
     "height": 917
    },
    "id": "Dzcdemh6LNJr",
    "outputId": "ecd6214c-76c7-485a-92c7-50d9f52ec066"
   },
   "outputs": [
    {
     "data": {
      "text/plain": [
       "[Text(0.5, 1.0, 'Top Twenty')]"
      ]
     },
     "execution_count": 104,
     "metadata": {
      "tags": []
     },
     "output_type": "execute_result"
    },
    {
     "data": {
      "image/png": "[encoded data removed]",
      "text/plain": [
       "<Figure size 1080x1080 with 1 Axes>"
      ]
     },
     "metadata": {
      "tags": []
     },
     "output_type": "display_data"
    }
   ],
   "source": [
    "sns.barplot(x=\"Model\", y=\"avg(Price)\", hue=\"Condition\", data=pdf.iloc[:13]).set(title=\"Top Twenty\")"
   ]
  },
  {
   "cell_type": "code",
   "execution_count": null,
   "metadata": {
    "id": "pgbFeGTzLU-P"
   },
   "outputs": [],
   "source": []
  }
 ],
 "metadata": {
  "colab": {
   "name": "Untitled0.ipynb",
   "provenance": []
  },
  "kernelspec": {
   "display_name": "Python 3",
   "language": "python",
   "name": "python3"
  },
  "language_info": {
   "codemirror_mode": {
    "name": "ipython",
    "version": 3
   },
   "file_extension": ".py",
   "mimetype": "text/x-python",
   "name": "python",
   "nbconvert_exporter": "python",
   "pygments_lexer": "ipython3",
   "version": "3.8.5"
  }
 },
 "nbformat": 4,
 "nbformat_minor": 1
}
